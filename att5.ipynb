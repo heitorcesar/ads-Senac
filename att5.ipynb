{
 "cells": [
  {
   "cell_type": "code",
   "execution_count": 1,
   "metadata": {},
   "outputs": [
    {
     "name": "stdout",
     "output_type": "stream",
     "text": [
      "o numero informado foi 10\n"
     ]
    }
   ],
   "source": [
    "numeroInformado = int(input(\"favor iformar o numero: \"))\n",
    "print(F'o numero informado foi {numeroInformado}')"
   ]
  },
  {
   "cell_type": "code",
   "execution_count": 4,
   "metadata": {},
   "outputs": [
    {
     "name": "stdout",
     "output_type": "stream",
     "text": [
      "O valor dos valores é 15\n"
     ]
    }
   ],
   "source": [
    "numero1 = int(input('digite um numero: '))\n",
    "numero2 = int(input('digite outro numero: '))\n",
    "soma = numero1 + numero2\n",
    "print(f'O valor da soma é {soma}')"
   ]
  },
  {
   "cell_type": "code",
   "execution_count": 7,
   "metadata": {},
   "outputs": [
    {
     "name": "stdout",
     "output_type": "stream",
     "text": [
      "A sua media é: 7.2\n"
     ]
    }
   ],
   "source": [
    "nota1 = float(input('digite a nota1: '))\n",
    "nota2 = float(input('digite a nota2: '))\n",
    "nota3 = float(input('digite a nota3: '))\n",
    "media = (nota1 + nota2 + nota3)/3\n",
    "print(F'A sua media é: {round(media,1)}')\n"
   ]
  },
  {
   "cell_type": "code",
   "execution_count": 9,
   "metadata": {},
   "outputs": [
    {
     "name": "stdout",
     "output_type": "stream",
     "text": [
      "seu salario mensal é: $6880\n"
     ]
    }
   ],
   "source": [
    "numero_de_horas = int(input('quantas horas você trabalhou esse mês? '))\n",
    "valor_hora = int(input('quanto você ganha por hora? '))\n",
    "relação = valor_hora * numero_de_horas\n",
    "print(f'seu salario mensal é: ${relação}')"
   ]
  },
  {
   "cell_type": "code",
   "execution_count": 10,
   "metadata": {},
   "outputs": [
    {
     "name": "stdout",
     "output_type": "stream",
     "text": [
      "João o valor sua multa pelo peso exedente foi: 68.0 \n"
     ]
    }
   ],
   "source": [
    "#Exercicio5\n",
    "\n",
    "#pergutar o numero de quilos pescados \n",
    "quilo_pescado = float(input('informe o peso da pesca em quilogramas: '))\n",
    "#verificar se há exesso \n",
    "if quilo_pescado < 50:\n",
    "   print('o peso está no regulamento!')\n",
    "#se o numero de quilos pescado for maior que 50, deve pagar multa de R$ 4,00 por quilo excedente\n",
    "else:\n",
    "#criar variável exesso     \n",
    "    exesso = quilo_pescado - 50\n",
    "#criar variável multa    \n",
    "    multa  = exesso * 4\n",
    "    print(f'João o valor da sua multa pelo peso exedente foi: R${multa} ')     \n",
    "\n",
    "\n"
   ]
  }
 ],
 "metadata": {
  "kernelspec": {
   "display_name": "Python 3",
   "language": "python",
   "name": "python3"
  },
  "language_info": {
   "codemirror_mode": {
    "name": "ipython",
    "version": 3
   },
   "file_extension": ".py",
   "mimetype": "text/x-python",
   "name": "python",
   "nbconvert_exporter": "python",
   "pygments_lexer": "ipython3",
   "version": "3.12.2"
  }
 },
 "nbformat": 4,
 "nbformat_minor": 2
}
