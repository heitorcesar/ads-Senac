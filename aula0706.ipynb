{
 "cells": [
  {
   "cell_type": "code",
   "execution_count": 1,
   "metadata": {},
   "outputs": [],
   "source": [
    "def addNum(n1,n2):\n",
    "    print(\"o primeiro numero é:: \",n1)\n",
    "    print(\"o segundo numero é: \",n2)\n",
    "    print(\"o terceiro numero é: \",n1+n2)\n",
    "    "
   ]
  },
  {
   "cell_type": "code",
   "execution_count": 2,
   "metadata": {},
   "outputs": [
    {
     "name": "stdout",
     "output_type": "stream",
     "text": [
      "o primeiro numero é::  2\n",
      "o segundo numero é:  3\n",
      "o terceiro numero é:  5\n"
     ]
    }
   ],
   "source": [
    "addNum(2,3)"
   ]
  },
  {
   "cell_type": "code",
   "execution_count": 3,
   "metadata": {},
   "outputs": [
    {
     "name": "stdout",
     "output_type": "stream",
     "text": [
      "o primeiro numero é::  4\n",
      "o segundo numero é:  3\n",
      "o terceiro numero é:  7\n"
     ]
    }
   ],
   "source": [
    "addNum(4,3)"
   ]
  },
  {
   "cell_type": "code",
   "execution_count": 4,
   "metadata": {},
   "outputs": [
    {
     "name": "stdout",
     "output_type": "stream",
     "text": [
      "Variável da função Multiplca:  20\n",
      "10\n"
     ]
    }
   ],
   "source": [
    "varGlobal = 10 #essa é uma variável global\n",
    "def multiplicação(Num1,Num2):\n",
    "#apesar do mesmo nome, é uma variavel local:\n",
    "   varGlobal = (Num1 * Num2)\n",
    "   print(\"Variável da função Multiplca: \", varGlobal)\n",
    "multiplicação(5,4)\n",
    "print(varGlobal)"
   ]
  },
  {
   "cell_type": "code",
   "execution_count": 5,
   "metadata": {},
   "outputs": [],
   "source": [
    "varGlobal = 10 #essa é a variave global\n",
    "def multiplicação(Num1,Num2):\n",
    "    varLocal = Num1*Num2#essa é uma variavel local\n",
    "    print(\"Variável da função Multiplica: \", varLocal)\n",
    "    print(varLocal)        "
   ]
  },
  {
   "cell_type": "code",
   "execution_count": null,
   "metadata": {},
   "outputs": [],
   "source": [
    "multiplica(5,4)\n",
    "print(varLocal)"
   ]
  },
  {
   "cell_type": "code",
   "execution_count": null,
   "metadata": {},
   "outputs": [],
   "source": [
    "def separarTexto(texto):\n",
    "    return texto.split()\n"
   ]
  },
  {
   "cell_type": "code",
   "execution_count": null,
   "metadata": {},
   "outputs": [],
   "source": [
    "separartexto(\"Cibele Maria Suely\")"
   ]
  },
  {
   "cell_type": "code",
   "execution_count": 9,
   "metadata": {},
   "outputs": [],
   "source": [
    "def variosparametros(*parametros):\n",
    "    for n, item in enumerate(parametros):\n",
    "        print(\"Parametros\",n, item)\n",
    "    return"
   ]
  },
  {
   "cell_type": "code",
   "execution_count": 10,
   "metadata": {},
   "outputs": [
    {
     "name": "stdout",
     "output_type": "stream",
     "text": [
      "Parametros 0 cibele\n",
      "Parametros 1 suely\n",
      "Parametros 2 giggio\n",
      "Parametros 3 madá\n",
      "Parametros 4 luquinhas\n"
     ]
    }
   ],
   "source": [
    "variosparametros('cibele','suely','giggio','madá','luquinhas')"
   ]
  },
  {
   "cell_type": "code",
   "execution_count": 11,
   "metadata": {},
   "outputs": [
    {
     "name": "stdout",
     "output_type": "stream",
     "text": [
      "Parametros 0 pitomba\n",
      "Parametros 1 jambo\n",
      "Parametros 2 siriguela\n",
      "Parametros 3 umbu\n"
     ]
    }
   ],
   "source": [
    "variosparametros('pitomba','jambo','siriguela','umbu')"
   ]
  },
  {
   "cell_type": "code",
   "execution_count": 12,
   "metadata": {},
   "outputs": [],
   "source": [
    "def soma(n1,n2):\n",
    "    return n1+n2\n",
    "def subtrai(n1,n2):\n",
    "    return n1-n2\n",
    "def multiplica(n1,n2):\n",
    "    return n1*n2\n",
    "def dividir(n1,n2):\n",
    "    return n1/n2"
   ]
  },
  {
   "cell_type": "code",
   "execution_count": 14,
   "metadata": {},
   "outputs": [
    {
     "name": "stdout",
     "output_type": "stream",
     "text": [
      "+==================+\n",
      "| MENU DE OPERAÇÕES\n",
      "|  1 - somar       \n",
      "|  2 - subtrair    \n",
      "|  3 - multiplicar \n",
      "|  4 - dividir     \n",
      "|  0 - sair        \n",
      "+==================+\n",
      "O resultado da soma é:  42\n",
      "+==================+\n",
      "| MENU DE OPERAÇÕES\n",
      "|  1 - somar       \n",
      "|  2 - subtrair    \n",
      "|  3 - multiplicar \n",
      "|  4 - dividir     \n",
      "|  0 - sair        \n",
      "+==================+\n"
     ]
    },
    {
     "ename": "ValueError",
     "evalue": "invalid literal for int() with base 10: ''",
     "output_type": "error",
     "traceback": [
      "\u001b[1;31m---------------------------------------------------------------------------\u001b[0m",
      "\u001b[1;31mValueError\u001b[0m                                Traceback (most recent call last)",
      "Cell \u001b[1;32mIn [14], line 11\u001b[0m\n\u001b[0;32m      8\u001b[0m \u001b[38;5;28mprint\u001b[39m(\u001b[38;5;124m\"\u001b[39m\u001b[38;5;124m|  0 - sair        \u001b[39m\u001b[38;5;124m\"\u001b[39m)\n\u001b[0;32m      9\u001b[0m \u001b[38;5;28mprint\u001b[39m(\u001b[38;5;124m\"\u001b[39m\u001b[38;5;124m+==================+\u001b[39m\u001b[38;5;124m\"\u001b[39m)\n\u001b[1;32m---> 11\u001b[0m op \u001b[38;5;241m=\u001b[39m \u001b[38;5;28;43mint\u001b[39;49m\u001b[43m(\u001b[49m\u001b[38;5;28;43minput\u001b[39;49m\u001b[43m(\u001b[49m\u001b[43m)\u001b[49m\u001b[43m)\u001b[49m\n\u001b[0;32m     12\u001b[0m \u001b[38;5;28;01mif\u001b[39;00m op\u001b[38;5;241m==\u001b[39m\u001b[38;5;241m0\u001b[39m:\n\u001b[0;32m     13\u001b[0m     \u001b[38;5;28;01mbreak\u001b[39;00m\n",
      "\u001b[1;31mValueError\u001b[0m: invalid literal for int() with base 10: ''"
     ]
    }
   ],
   "source": [
    "while True:\n",
    "    print(\"+==================+\")\n",
    "    print(\"| MENU DE OPERAÇÕES\")\n",
    "    print(\"|  1 - somar       \")\n",
    "    print(\"|  2 - subtrair    \")\n",
    "    print(\"|  3 - multiplicar \")\n",
    "    print(\"|  4 - dividir     \")\n",
    "    print(\"|  0 - sair        \")\n",
    "    print(\"+==================+\")\n",
    "\n",
    "    op = int(input())\n",
    "    if op==0:\n",
    "        break\n",
    "    \n",
    "    n1 = int(input(\"Primeiro número: \"))\n",
    "    n2 = int(input(\"Segundo número é: \"))\n",
    "\n",
    "    if op==1:\n",
    "        print(\"O resultado da soma é: \", soma(n1,n2))\n",
    "    elif op==2:\n",
    "        print(\"O resultado da subtração é: \", subtrai(n1,n2)) \n",
    "    elif op==3:\n",
    "        print(\"O resultado da multiplicação é: \", multiplica(n1,n2))\n",
    "    elif op==4:\n",
    "        print(\"O resultado da divisão é: \", dividir(n1,n2))\n",
    "    "
   ]
  }
 ],
 "metadata": {
  "kernelspec": {
   "display_name": "Python 3",
   "language": "python",
   "name": "python3"
  },
  "language_info": {
   "codemirror_mode": {
    "name": "ipython",
    "version": 3
   },
   "file_extension": ".py",
   "mimetype": "text/x-python",
   "name": "python",
   "nbconvert_exporter": "python",
   "pygments_lexer": "ipython3",
   "version": "3.10.8"
  }
 },
 "nbformat": 4,
 "nbformat_minor": 2
}
