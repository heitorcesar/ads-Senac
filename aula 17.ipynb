{
 "cells": [
  {
   "cell_type": "code",
   "execution_count": 1,
   "metadata": {},
   "outputs": [
    {
     "name": "stdout",
     "output_type": "stream",
     "text": [
      "5 patinhos foram passear, além das montanhas para brincar. A mamãe gritou quá,quá,quá,quá,mas só 4 voltaram de lá\n",
      "4 patinhos foram passear, além das montanhas para brincar. A mamãe gritou quá,quá,quá,quá,mas só 3 voltaram de lá\n",
      "3 patinhos foram passear, além das montanhas para brincar. A mamãe gritou quá,quá,quá,quá,mas só 2 voltaram de lá\n",
      "2 patinhos foram passear, além das montanhas para brincar. A mamãe gritou quá,quá,quá,quá,mas só 1 voltaram de lá\n",
      "1 patinhos foram passear, além das montanhas para brincar. A mamãe gritou quá,quá,quá,quá,mas só 0 voltaram de lá\n"
     ]
    }
   ],
   "source": [
    "n = 5 \n",
    "\n",
    "for n in[5,4,3,2,1]:\n",
    "    print (n, \"patinhos foram passear, além das montanhas para brincar. A mamãe gritou quá,quá,quá,quá,mas só\", n-1, \"voltaram de lá\")"
   ]
  },
  {
   "cell_type": "code",
   "execution_count": 6,
   "metadata": {},
   "outputs": [
    {
     "name": "stdout",
     "output_type": "stream",
     "text": [
      "tabuada do 8\n",
      "8 x 1 = 8\n",
      "8 x 2 = 16\n",
      "8 x 3 = 24\n",
      "8 x 4 = 32\n",
      "8 x 5 = 40\n",
      "8 x 6 = 48\n",
      "8 x 7 = 56\n",
      "8 x 8 = 64\n",
      "8 x 9 = 72\n",
      "8 x 10 = 80\n"
     ]
    }
   ],
   "source": [
    "n = int (input(\"um numero\"))\n",
    "print(\"tabuada do\",n)\n",
    "for num in range(1,11):\n",
    "    resultado = n * num\n",
    "    print(n, \"x\", num, \"=\", resultado)\n"
   ]
  }
 ],
 "metadata": {
  "kernelspec": {
   "display_name": "Python 3",
   "language": "python",
   "name": "python3"
  },
  "language_info": {
   "codemirror_mode": {
    "name": "ipython",
    "version": 3
   },
   "file_extension": ".py",
   "mimetype": "text/x-python",
   "name": "python",
   "nbconvert_exporter": "python",
   "pygments_lexer": "ipython3",
   "version": "3.12.3"
  }
 },
 "nbformat": 4,
 "nbformat_minor": 2
}
