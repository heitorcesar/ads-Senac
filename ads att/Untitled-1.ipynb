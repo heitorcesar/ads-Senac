{
 "cells": [
  {
   "cell_type": "code",
   "execution_count": null,
   "metadata": {},
   "outputs": [],
   "source": []
  },
  {
   "cell_type": "code",
   "execution_count": 1,
   "metadata": {},
   "outputs": [
    {
     "name": "stdout",
     "output_type": "stream",
     "text": [
      "o numero é impar\n"
     ]
    }
   ],
   "source": [
    "numero = int(input('digite um numero inteiro'))\n",
    "if( numero % 2 == 0 ):\n",
    "  print('o numero digitado é par')\n",
    "else: print('o numero é impar')"
   ]
  },
  {
   "cell_type": "code",
   "execution_count": 3,
   "metadata": {},
   "outputs": [
    {
     "name": "stdout",
     "output_type": "stream",
     "text": [
      "você ganhou um desconto de 10%.\n"
     ]
    }
   ],
   "source": [
    "cupom = input('digite o cupom: ') \n",
    "if (cupom == 'aula1' or cupom == 'aula2'):\n",
    "    print('você ganhou um desconto de 10%.')\n",
    "else: \n",
    "    print('cupm inválido')\n"
   ]
  },
  {
   "cell_type": "code",
   "execution_count": 6,
   "metadata": {},
   "outputs": [
    {
     "name": "stdout",
     "output_type": "stream",
     "text": [
      "voce ganhou 5% de desconto.\n"
     ]
    }
   ],
   "source": [
    "cupom = input('digite o cupom: ')\n",
    "if (cupom == 'aula1' or cupom == 'aula2' ):\n",
    "    print('cupom válido, voce ganhou 15% desconto.')\n",
    "else:\n",
    "    print('voce ganhou 5% de desconto.')    "
   ]
  },
  {
   "cell_type": "code",
   "execution_count": null,
   "metadata": {},
   "outputs": [],
   "source": []
  }
 ],
 "metadata": {
  "kernelspec": {
   "display_name": "Python 3",
   "language": "python",
   "name": "python3"
  },
  "language_info": {
   "codemirror_mode": {
    "name": "ipython",
    "version": 3
   },
   "file_extension": ".py",
   "mimetype": "text/x-python",
   "name": "python",
   "nbconvert_exporter": "python",
   "pygments_lexer": "ipython3",
   "version": "3.10.11"
  }
 },
 "nbformat": 4,
 "nbformat_minor": 2
}
