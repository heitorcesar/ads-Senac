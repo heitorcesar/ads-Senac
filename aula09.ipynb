{
 "cells": [
  {
   "cell_type": "code",
   "execution_count": null,
   "metadata": {},
   "outputs": [],
   "source": [
    "#estrutura de repetição\n",
    "for produto in range(0,4):\n",
    "    p = str(input(\"digite o nome do produto: \"))\n",
    "    v = float(input(\"digite o valor do produto: \"))\n",
    "    "
   ]
  },
  {
   "cell_type": "code",
   "execution_count": 10,
   "metadata": {},
   "outputs": [
    {
     "name": "stdout",
     "output_type": "stream",
     "text": [
      "estamos no elemento 1\n",
      "estamos no elemento 2\n",
      "estamos no elemento 3\n",
      "estamos no elemento 4\n",
      "estamos no elemento 5\n",
      "estamos no elemento 6\n"
     ]
    }
   ],
   "source": [
    "for elemento in [1,2,3,4,5,6]:\n",
    "    print('estamos no elemento',elemento)"
   ]
  },
  {
   "cell_type": "code",
   "execution_count": 2,
   "metadata": {},
   "outputs": [
    {
     "name": "stdout",
     "output_type": "stream",
     "text": [
      "estamos no elemento S\n",
      "estamos no elemento t\n",
      "estamos no elemento r\n",
      "estamos no elemento i\n",
      "estamos no elemento n\n",
      "estamos no elemento g\n"
     ]
    }
   ],
   "source": [
    "for elemento in 'String':\n",
    "    print('estamos no elemento',elemento)\n",
    "    "
   ]
  },
  {
   "cell_type": "code",
   "execution_count": 3,
   "metadata": {},
   "outputs": [
    {
     "name": "stdout",
     "output_type": "stream",
     "text": [
      "estamos no elemento 0\n",
      "estamos no elemento 1\n",
      "estamos no elemento 2\n",
      "estamos no elemento 3\n",
      "estamos no elemento 4\n",
      "estamos no elemento 5\n"
     ]
    }
   ],
   "source": [
    "for elemento in range (len(\"string\")):\n",
    "    print('estamos no elemento',elemento)"
   ]
  },
  {
   "cell_type": "code",
   "execution_count": null,
   "metadata": {},
   "outputs": [],
   "source": [
    "produto = 0 \n",
    "while produto < 4 : \n",
    "   p = str(input('digite o nome do produto: '))\n",
    "   v = float(input('digite o valor do produto: '))\n",
    "   produto += 1 "
   ]
  },
  {
   "cell_type": "code",
   "execution_count": null,
   "metadata": {},
   "outputs": [],
   "source": [
    "elemento = 0 \n",
    "while elemento <= len([1,2,3,4,5,6]):\n",
    "    print('etamos no elemento',elemento)"
   ]
  },
  {
   "cell_type": "code",
   "execution_count": 3,
   "metadata": {},
   "outputs": [
    {
     "name": "stdout",
     "output_type": "stream",
     "text": [
      "estamos no elemento S\n",
      "estamos no elemento t\n",
      "estamos no elemento r\n",
      "estamos no elemento i\n",
      "estamos no elemento n\n",
      "estamos no elemento g\n"
     ]
    }
   ],
   "source": [
    "s = 'String'\n",
    "indice = 0\n",
    "while indice in range (len(s)):\n",
    "    print('estamos no elemento',s[indice])\n",
    "    indice+=1"
   ]
  },
  {
   "cell_type": "code",
   "execution_count": null,
   "metadata": {},
   "outputs": [],
   "source": [
    "palavra = 'tranquilo'\n",
    "for indice, letra in enumerate(palavra):\n",
    "    print(indice,letra)\n",
    "    "
   ]
  },
  {
   "cell_type": "code",
   "execution_count": null,
   "metadata": {},
   "outputs": [],
   "source": [
    "s='viva o python'\"3D Objects\"\n",
    "for ch in s:\n",
    "    print('oi')\n",
    "    "
   ]
  },
  {
   "cell_type": "code",
   "execution_count": null,
   "metadata": {},
   "outputs": [],
   "source": [
    "s='viva o python'\n",
    "for ch in s[3:8]:\n",
    "    print('oi')"
   ]
  },
  {
   "cell_type": "code",
   "execution_count": null,
   "metadata": {},
   "outputs": [],
   "source": [
    "\n",
    "numeros_pares = 0\n",
    "numeros_impares = 0\n",
    " \n",
    "for i in range(10):\n",
    "    numero = int(input(f\"Digite o {i + 1}º número inteiro: \"))\n",
    " \n",
    "    if numero % 2 == 0:\n",
    "        numeros_pares += 1\n",
    "    else:\n",
    "        numeros_impares += 1\n",
    " \n",
    "print(\"Quantidade de números pares:\", numeros_pares)\n",
    "print(\"Quantidade de números ímpares:\", numeros_impares)"
   ]
  }
 ],
 "metadata": {
  "kernelspec": {
   "display_name": "Python 3",
   "language": "python",
   "name": "python3"
  },
  "language_info": {
   "codemirror_mode": {
    "name": "ipython",
    "version": 3
   },
   "file_extension": ".py",
   "mimetype": "text/x-python",
   "name": "python",
   "nbconvert_exporter": "python",
   "pygments_lexer": "ipython3",
   "version": "3.12.3"
  }
 },
 "nbformat": 4,
 "nbformat_minor": 2
}
