{
 "cells": [
  {
   "cell_type": "code",
   "execution_count": 3,
   "metadata": {},
   "outputs": [
    {
     "name": "stdout",
     "output_type": "stream",
     "text": [
      "Vamos a praia!\n"
     ]
    }
   ],
   "source": [
    "# Se tem sol e se tem dinheiro vai pra praia, se não é direto pra netflix\n",
    "\n",
    "#Entrada de pergunta do Sol ou Dinheiro\n",
    "temSol = int ( input(\"Responda com 1 ou 0. Tem Sol?\"))\n",
    "dinheiro = int ( input(\"Responda com 1 ou 0. Tem Dinheiro?\"))\n",
    "temNetflix = int ( input(\"Responda com 1 ou 0. Tem Netflix?\"))\n",
    "\n",
    "#Resolução de resposta\n",
    "\n",
    "if (temSol == 1 and dinheiro == 1) : (\n",
    "    print(\"Vamos a praia!\")\n",
    ")\n",
    "elif (temNetflix == 1 and temSol == 0 or dinheiro == 0) : (\n",
    "        print(\"Hoje tem Netflix!\")\n",
    "    )\n",
    "else :(\n",
    "     print(\"Hoje tem Netflix!.\")\n",
    " )\n",
    "    \n"
   ]
  }
 ],
 "metadata": {
  "kernelspec": {
   "display_name": "Python 3",
   "language": "python",
   "name": "python3"
  },
  "language_info": {
   "codemirror_mode": {
    "name": "ipython",
    "version": 3
   },
   "file_extension": ".py",
   "mimetype": "text/x-python",
   "name": "python",
   "nbconvert_exporter": "python",
   "pygments_lexer": "ipython3",
   "version": "3.11.9"
  }
 },
 "nbformat": 4,
 "nbformat_minor": 2
}
